{
 "cells": [
  {
   "cell_type": "markdown",
   "metadata": {},
   "source": [
    "PA5 008 - N-Queens Puzzle Solver Using Uninformed Search"
   ]
  },
  {
   "attachments": {
    "image.png": {
     "image/png": "[encoded data removed]"
    }
   },
   "cell_type": "markdown",
   "metadata": {},
   "source": [
    "- 너비우선탐색(BFS)\n",
    "\n",
    "    - 자료구조 : 큐(Queue) 사용\n",
    "    - 탐색순서 : 가까운 노드부터 탐색\n",
    "    - 장점 : 최단 경로를 보장함\n",
    "    - 단점 : 방문한 상태를 기록하지 않으면, 중복 탐색 문제 발생 가능\n",
    "\n",
    "![image.png](attachment:image.png)"
   ]
  },
  {
   "cell_type": "markdown",
   "metadata": {},
   "source": [
    "Root Node : 33\n",
    "\n",
    "1. Root Node인 33을 Queue에 넣는다. \n",
    "\n",
    "{Queue: [33]}, {탐색 노드: []}\n",
    "\n",
    "2. 현재 Queue의 첫 번째 값을 빼고, 해당 값의 자식 노드를 Queue에 넣는다. \n",
    "\n",
    "{Queue: [22, 44]}, {탐색 노드: [33]}\n",
    "\n",
    "3. 2의 과정을 반복하여 수행하게 되면, BFS로 노드를 탐색하게 된다.\n",
    "\n",
    "- {Queue: [44, 3, 26]}, {탐색 노드: [33, 22]}\n",
    "- {Queue: [3, 26, 77]}, {탐색 노드: [33, 2, 44]}\n",
    "- {Queue: [26, 77]}, {탐색 노드: [33, 2, 44, 3]}\n",
    "- {Queue: [77]}, {탐색 노드: [33, 2, 44, 3, 26]}\n",
    "- {Queue: [55]}, {탐색 노드: [33, 2, 44, 3, 26, 77]}\n",
    "- {Queue: []}, {탐색 노드: [33, 2, 44, 3, 26, 77, 55]}"
   ]
  },
  {
   "cell_type": "markdown",
   "metadata": {},
   "source": [
    "BFS를 사용한 탐색 순서 : 33 → 22 → 44 → 3 → 26 → 77 → 55"
   ]
  },
  {
   "cell_type": "markdown",
   "metadata": {},
   "source": [
    "In the N-Queens problem, BFS will explore each position on the chessboard column by column, starting from the first column and moving right. It checks each row sequentially within a column and places a queen in a valid row. The first column's queen is randomly chosen, but the BFS will systematically attempt to solve the board from that starting point.\n",
    "\n",
    "N-Queens 문제에서 BFS는 체스판의 각 위치를 첫 번째 열에서 시작하여 오른쪽으로 이동하면서 열별로 탐색합니다. 열 내에서 각 행을 순차적으로 확인하고 유효한 행에 퀸을 배치합니다. 첫 번째 열의 퀸은 무작위로 선택되지만 BFS는 해당 시작점에서 체계적으로 보드를 풀려고 시도합니다."
   ]
  },
  {
   "cell_type": "markdown",
   "metadata": {},
   "source": []
  }
 ],
 "metadata": {
  "kernelspec": {
   "display_name": "ml",
   "language": "python",
   "name": "python3"
  },
  "language_info": {
   "name": "python",
   "version": "3.8.13"
  }
 },
 "nbformat": 4,
 "nbformat_minor": 2
}
