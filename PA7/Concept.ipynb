{
 "cells": [
  {
   "cell_type": "markdown",
   "metadata": {},
   "source": [
    "경사 하강법 (Gradient Descent)\n",
    "\n",
    "\n",
    "경사 하강법(Gradient Descent)은 최적화 문제를 해결하기 위한 가장 기본적이고 널리 사용되는 알고리즘 중 하나로, 목적 함수(Objective Function)의 최소값을 찾는 방법입니다. 이 알고리즘은 함수의 기울기(gradient)를 이용하여 점진적으로 최소값에 접근합니다.\n",
    "\n"
   ]
  },
  {
   "cell_type": "markdown",
   "metadata": {},
   "source": [
    "Goal\n",
    "\n",
    "To implement and understand the Gradient Descent algorithm for solving a convex optimization problem. This involves creating a ConvexFunctionProblem class and a GradientDescentSolver class to find the minimum of a quadratic convex function.\n",
    "\n"
   ]
  }
 ],
 "metadata": {
  "language_info": {
   "name": "python"
  }
 },
 "nbformat": 4,
 "nbformat_minor": 2
}
