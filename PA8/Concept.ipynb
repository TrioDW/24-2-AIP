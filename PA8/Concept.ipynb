{
 "cells": [
  {
   "cell_type": "markdown",
   "metadata": {},
   "source": [
    "주어진 20개의 도시를 방문하는 최단 경로를 찾는 유전 알고리즘(Genetic Algorithm, GA)을 구현합니다.\n",
    "\n",
    "Travelling Salesman Problem (TSP) 설명\n",
    "\n",
    "TSP는 최적화 문제의 대표적 예시로, 모든 도시를 정확히 한 번씩 방문하고 시작점으로 돌아오는 최단 경로를 찾는 문제입니다. 이 문제는 NP-hard 문제로, 해를 찾는 데 많은 계산이 필요하므로, 유전 알고리즘(GA)과 같은 휴리스틱 방법이 자주 사용됩니다.\n",
    "\n",
    "\n",
    "유전 알고리즘은 자연 선택과 진화를 모방한 최적화 기법으로, 반복적으로 선택(selection), 교차(crossover), 변이(mutation)의 과정을 거쳐 더 나은 해를 찾습니다."
   ]
  },
  {
   "cell_type": "markdown",
   "metadata": {},
   "source": [
    "유전 알고리즘의 주요 단계\n",
    "\n",
    "- 초기화 (Initialization) : 무작위로 가능한 여러 경로(해)를 생성해 초기 개체군(population)을 만듭니다.\n",
    "\n",
    "- 선택 (Selection) : 더 높은 적합도를 가진 개체(경로)를 선택한다.\n",
    "\n",
    "- 교차 (Crossover) : 두 부모 경로의 일부를 결합해 자식(offspring) 경로를 생성합니다. Ordered Crossover를 사용해 유효한 경로를 만듭니다. (도시 방문 순서 유지)\n",
    "\n",
    "- 변이 (Mutation) : 경로의 일부를 무작위로 변경해 새로운 해를 탐색합니다. Inversion Mutation을 사용해 경로의 일부를 뒤집습니다.\n",
    "\n",
    "- 반복 (Iteration) : 위 과정을 반복하면서 개체군을 진화시키고, 더 나은 해를 찾아갑니다. 500 세대까지 반복하거나 수렴(Convergence)하면 알고리즘을 종료합니다."
   ]
  }
 ],
 "metadata": {
  "kernelspec": {
   "display_name": "ml",
   "language": "python",
   "name": "python3"
  },
  "language_info": {
   "name": "python",
   "version": "3.8.13"
  }
 },
 "nbformat": 4,
 "nbformat_minor": 2
}
